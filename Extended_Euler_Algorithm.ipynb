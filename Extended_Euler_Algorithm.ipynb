{
  "nbformat": 4,
  "nbformat_minor": 0,
  "metadata": {
    "colab": {
      "name": "Extended Euler Algorithm",
      "provenance": []
    },
    "kernelspec": {
      "name": "python3",
      "display_name": "Python 3"
    },
    "language_info": {
      "name": "python"
    }
  },
  "cells": [
    {
      "cell_type": "code",
      "source": [
        "import math\n",
        "import seaborn as sns\n",
        "import pandas as pd\n",
        "import matplotlib.pyplot as plt"
      ],
      "metadata": {
        "id": "hIjMOK_geLcY"
      },
      "execution_count": null,
      "outputs": []
    },
    {
      "cell_type": "code",
      "source": [
        "def coprime(a, b, print=True):\n",
        "  \"\"\" takes two integers\n",
        "      as input and returns\n",
        "      bool value if they are\n",
        "      relative primes or not \"\"\"\n",
        "\n",
        "  if math.gcd(a, b) == 1:\n",
        "    if print:\n",
        "      print(f\"{a} and {b} are coprimes!\")\n",
        "    return True\n",
        "  else:\n",
        "    if print:\n",
        "      print(f\"{a} and {b} are NOT coprimes!\")\n",
        "    return False\n",
        "\n",
        "\n",
        "def euler_totient_func(input, p=True):\n",
        "  \"\"\" returns the number of coprime numbers\n",
        "      between zero and the input value (φ), \n",
        "      also returns the totatives of input value \"\"\"\n",
        "  phi = 0\n",
        "  coprimes_vector = []\n",
        "\n",
        "  for n in range(input):\n",
        "    if coprime(n, input, print=False):\n",
        "      phi+=1\n",
        "      coprimes_vector.append(n)\n",
        "  if p:     \n",
        "    print(phi)\n",
        "    print(coprimes_vector)\n",
        "  return phi, coprimes_vector\n",
        "\n",
        "\n",
        "def create_scatter_data(tot):\n",
        "  \"\"\" plots the first tot values of φ(n) \"\"\"\n",
        "  n = [x for x in range(tot)]\n",
        "  phi_list = []\n",
        "  for digit in n:\n",
        "    phi, coprimes_vector = euler_totient_func(digit, p=False)\n",
        "    phi_list.append(phi)\n",
        "  out = pd.DataFrame(list(zip(n, phi_list)),\n",
        "               columns =['n', 'phi'])\n",
        "  return out"
      ],
      "metadata": {
        "id": "u1JocBA1eN34"
      },
      "execution_count": null,
      "outputs": []
    },
    {
      "cell_type": "code",
      "execution_count": 36,
      "metadata": {
        "colab": {
          "base_uri": "https://localhost:8080/",
          "height": 296
        },
        "id": "ajzVnDt0z_m6",
        "outputId": "2954197b-1850-4342-9e1b-70f7a4ea5b9c"
      },
      "outputs": [
        {
          "output_type": "execute_result",
          "data": {
            "text/plain": [
              "Text(17.875, 0.5, 'φ(n)')"
            ]
          },
          "metadata": {},
          "execution_count": 36
        },
        {
          "output_type": "display_data",
          "data": {
            "text/plain": [
              "<Figure size 432x288 with 1 Axes>"
            ],
            "image/png": "[encoded data removed]"
          },
          "metadata": {
            "needs_background": "light"
          }
        }
      ],
      "source": [
        "data = create_scatter_data(1000)\n",
        "\n",
        "fig = sns.scatterplot(data=data, x=\"n\", y=\"phi\", s=1)\n",
        "plt.savefig('Euler\\'s totient function.pdf', \n",
        "           dpi=300)\n",
        "plt.ylabel(\"φ(n)\")"
      ]
    }
  ]
}